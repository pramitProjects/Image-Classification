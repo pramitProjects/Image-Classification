{
 "cells": [
  {
   "cell_type": "markdown",
   "metadata": {},
   "source": [
    "# The Aim of the Project is to study the Performance of Convolutional Neural Networks, Neural Network and Logistic Regression (with PCA) for Image Classification"
   ]
  },
  {
   "cell_type": "markdown",
   "metadata": {
    "id": "db3221a8-3928-4f5d-a0c0-300545d4ee63",
    "tags": []
   },
   "source": [
    "## 1. Logistic regression and PCA \n",
    "\n",
    "MedMNIST is a collection of healthcase based datasets that are pre-processed to match to format of the original MNIST dataset. In this section, I've performed logistic regression and dimension reduction using PCA on the **PneumoniaMNIST** dataset from the MedMNIST. The task for this dataset is to detect whether a chest X-ray shows signs of Pneumonia or not and is therefore a binary classification task.\n"
   ]
  },
  {
   "cell_type": "markdown",
   "metadata": {
    "id": "18811903-d606-4a34-b7fa-6a25982f0ba6"
   },
   "source": [
    "###  Data download \n",
    "\n",
    "The code cell belows provides the code to download the dataset as a compressed numpy file directly from the [MedMNIST website](https://doi.org/10.5281/zenodo.6496656\n",
    ").\n",
    "\n"
   ]
  },
  {
   "cell_type": "code",
   "execution_count": 2,
   "metadata": {},
   "outputs": [],
   "source": [
    "import matplotlib.pyplot as plt"
   ]
  },
  {
   "cell_type": "code",
   "execution_count": 1,
   "metadata": {
    "id": "a84c1070-52fc-45b5-9b83-bfa425ab8472",
    "outputId": "9fd8fc1b-6cd4-4b2d-83c8-4012e6fa2e3e"
   },
   "outputs": [
    {
     "name": "stdout",
     "output_type": "stream",
     "text": [
      "train_images (4708, 28, 28) uint8\n",
      "val_images (524, 28, 28) uint8\n",
      "test_images (624, 28, 28) uint8\n",
      "train_labels (4708, 1) uint8\n",
      "val_labels (524, 1) uint8\n",
      "test_labels (624, 1) uint8\n"
     ]
    }
   ],
   "source": [
    "import numpy as np\n",
    "import urllib.request\n",
    "import os\n",
    "from sklearn import preprocessing as p\n",
    "  \n",
    "\n",
    "# Download the dataset to the local folder\n",
    "urllib.request.urlretrieve('https://zenodo.org/record/6496656/files/pneumoniamnist.npz?download=1', 'pneumoniamnist.npz')\n",
    "\n",
    "# Load the compressed numpy array file\n",
    "dataset = np.load('./pneumoniamnist.npz')\n",
    "\n",
    "# The loaded dataset contains each array internally\n",
    "for key in dataset.keys():\n",
    "    print(key, dataset[key].shape, dataset[key].dtype)"
   ]
  },
  {
   "cell_type": "markdown",
   "metadata": {
    "id": "43e5ce3f-041e-4a7e-ba10-da71c9798584"
   },
   "source": [
    "**1.1a** After downloading the data, I've merged the validation set into the training set and reshaped the images so that each is a 1D array. Then I've scaled the pixel values so they are in the range [0,1]."
   ]
  },
  {
   "cell_type": "code",
   "execution_count": 192,
   "metadata": {
    "id": "5135af20-67ef-44c9-b5c5-c2eef1cb2039"
   },
   "outputs": [],
   "source": [
    "\n",
    "#getting the features and the labels as two different arrays for training, validation and test sets\n",
    "\n",
    "train_features = np.array(dataset['train_images'])\n",
    "train_labels = np.array(dataset['train_labels'])\n",
    "test_features = np.array(dataset['test_images'])\n",
    "test_labels = np.array(dataset['test_labels'])\n",
    "val_features = np.array(dataset['val_images'])\n",
    "val_labels = np.array(dataset['val_labels'])\n",
    "\n",
    "train_features = np.vstack((train_features,val_features))\n",
    "train_labels = np.vstack((train_labels,val_labels))"
   ]
  },
  {
   "cell_type": "code",
   "execution_count": 193,
   "metadata": {},
   "outputs": [
    {
     "name": "stdout",
     "output_type": "stream",
     "text": [
      "(5232, 28, 28)\n",
      "(5232, 784)\n",
      "(784,)\n",
      "[[0.37860082 0.45378151 0.48347107 ... 0.71186441 0.63636364 0.59401709]\n",
      " [0.47325103 0.49579832 0.48347107 ... 0.77542373 0.72727273 0.72222222]\n",
      " [0.61316872 0.61344538 0.60743802 ... 0.79661017 0.69834711 0.67094017]\n",
      " ...\n",
      " [0.51851852 0.6092437  0.63636364 ... 0.76694915 0.7231405  0.71794872]\n",
      " [0.01234568 0.         0.01239669 ... 0.66949153 0.66942149 0.64957265]\n",
      " [0.26337449 0.28991597 0.33057851 ... 0.8559322  0.80991736 0.79487179]]\n"
     ]
    }
   ],
   "source": [
    "#merge validation set\n",
    "from sklearn import preprocessing as p\n",
    "\n",
    "#reshapping all the images into 1d arrays\n",
    "\n",
    "train_features_1d = np.array([ i.reshape(-1) for i in train_features])\n",
    "test_features_1d = np.array([ i.reshape(-1) for i in test_features])\n",
    "\n",
    "min_max_scaler = p.MinMaxScaler()\n",
    "\n",
    "scaled_train_features = min_max_scaler.fit_transform(train_features_1d)\n",
    "scaled_test_features = min_max_scaler.fit_transform(test_features_1d)\n",
    "\n",
    "#temp=[]\n",
    "#for i in train_features:\n",
    "    #temp.append(i.reshape(-1))\n",
    "#temp = train_features.reshape(-1)\n",
    "\n",
    "print(train_features.shape)\n",
    "print(train_features_1d.shape)\n",
    "print(train_features_1d[0].shape)\n",
    "print(min_max_scaler.fit_transform(train_features_1d))\n",
    "#print(minmax_scaler.fit_transform(train_features))"
   ]
  },
  {
   "cell_type": "code",
   "execution_count": 207,
   "metadata": {},
   "outputs": [],
   "source": [
    "#creating a copy for unreduced features\n",
    "\n",
    "scaled_unreduced_train_features = scaled_train_features\n",
    "scaled_unreduced_test_features =  scaled_test_features\n",
    "#print(scaled_unreduced_train_features)"
   ]
  },
  {
   "cell_type": "markdown",
   "metadata": {
    "id": "dbafb103-1d93-4019-98c2-d55af545782a"
   },
   "source": [
    "### 1.2: Dimensional reduction and training \n",
    "\n",
    "**1.2a** Using the Scikit-learn PCA class, I've transformed the training and test data into **seven** different sets of reduced dimensions, i.e I've created 7 alternate datsets with ($k_1, k_2, ..., k_7$) number of features. I've Kept a copy of the unreduced data so that in total I have **eight** datasets.\n",
    "\n",
    "\n",
    "As per the rule we must fit the tranformation based on the training data and use that to transform the test data."
   ]
  },
  {
   "cell_type": "code",
   "execution_count": 247,
   "metadata": {},
   "outputs": [],
   "source": [
    "# A function to k-different datasets for k-different featues\n",
    "\n",
    "from sklearn.decomposition import PCA\n",
    "def gen_datasets(n_features):\n",
    "    k = [None]*len(n_features)\n",
    "    k_test = [None]*len(n_features)\n",
    "    principal = [None]*len(n_features)\n",
    "    for i in range(len(n_features)):\n",
    "        principal[i] = PCA(n_components = n_features[i])\n",
    "        principal[i].fit(scaled_train_features)\n",
    "        k[i] = principal[i].transform(scaled_train_features)\n",
    "        k_test[i] = principal[i].transform(scaled_test_features)\n",
    "    return k, k_test, principal"
   ]
  },
  {
   "cell_type": "code",
   "execution_count": 248,
   "metadata": {},
   "outputs": [],
   "source": [
    "#getting k-different datasets for k-different features, first one having all the features\n",
    "\n",
    "n_features = [784,25,30,40,45,50,75,100]\n",
    "k,k_test,principal = gen_datasets(n_features)"
   ]
  },
  {
   "cell_type": "markdown",
   "metadata": {
    "id": "06059816-4c87-4e7e-ad0d-c7c901e3c502"
   },
   "source": [
    "\n",
    "**1.2b** Training **eight** logistic regression classifiers (LRC): one on the original features (unreduced), and seven on PCA features with seven different dimensions in 1.2a, i.e., LRC on $k_1$ PCA features; LRC on $k_2$ PCA features; ..., LRC on $k_7$ PCA features and LRC on the unreduced data.\n"
   ]
  },
  {
   "cell_type": "code",
   "execution_count": 231,
   "metadata": {},
   "outputs": [
    {
     "name": "stderr",
     "output_type": "stream",
     "text": [
      "C:\\Users\\USER\\anaconda3\\lib\\site-packages\\sklearn\\utils\\validation.py:760: DataConversionWarning: A column-vector y was passed when a 1d array was expected. Please change the shape of y to (n_samples, ), for example using ravel().\n",
      "  y = column_or_1d(y, warn=True)\n",
      "C:\\Users\\USER\\anaconda3\\lib\\site-packages\\sklearn\\linear_model\\_sag.py:330: ConvergenceWarning: The max_iter was reached which means the coef_ did not converge\n",
      "  \"the coef_ did not converge\", ConvergenceWarning)\n",
      "C:\\Users\\USER\\anaconda3\\lib\\site-packages\\sklearn\\utils\\validation.py:760: DataConversionWarning: A column-vector y was passed when a 1d array was expected. Please change the shape of y to (n_samples, ), for example using ravel().\n",
      "  y = column_or_1d(y, warn=True)\n",
      "C:\\Users\\USER\\anaconda3\\lib\\site-packages\\sklearn\\utils\\validation.py:760: DataConversionWarning: A column-vector y was passed when a 1d array was expected. Please change the shape of y to (n_samples, ), for example using ravel().\n",
      "  y = column_or_1d(y, warn=True)\n",
      "C:\\Users\\USER\\anaconda3\\lib\\site-packages\\sklearn\\utils\\validation.py:760: DataConversionWarning: A column-vector y was passed when a 1d array was expected. Please change the shape of y to (n_samples, ), for example using ravel().\n",
      "  y = column_or_1d(y, warn=True)\n",
      "C:\\Users\\USER\\anaconda3\\lib\\site-packages\\sklearn\\utils\\validation.py:760: DataConversionWarning: A column-vector y was passed when a 1d array was expected. Please change the shape of y to (n_samples, ), for example using ravel().\n",
      "  y = column_or_1d(y, warn=True)\n",
      "C:\\Users\\USER\\anaconda3\\lib\\site-packages\\sklearn\\utils\\validation.py:760: DataConversionWarning: A column-vector y was passed when a 1d array was expected. Please change the shape of y to (n_samples, ), for example using ravel().\n",
      "  y = column_or_1d(y, warn=True)\n",
      "C:\\Users\\USER\\anaconda3\\lib\\site-packages\\sklearn\\utils\\validation.py:760: DataConversionWarning: A column-vector y was passed when a 1d array was expected. Please change the shape of y to (n_samples, ), for example using ravel().\n",
      "  y = column_or_1d(y, warn=True)\n",
      "C:\\Users\\USER\\anaconda3\\lib\\site-packages\\sklearn\\utils\\validation.py:760: DataConversionWarning: A column-vector y was passed when a 1d array was expected. Please change the shape of y to (n_samples, ), for example using ravel().\n",
      "  y = column_or_1d(y, warn=True)\n"
     ]
    }
   ],
   "source": [
    "from sklearn.linear_model import LogisticRegression\n",
    "\n",
    "\n",
    "# Creating 8 different logistic regression models for all the datasets created above\n",
    "\n",
    "logisticRegr = [None]*8\n",
    "for i in range(0,8):\n",
    "    if(i==0):\n",
    "        logisticRegr[i] = LogisticRegression(penalty='l2',solver='sag')\n",
    "        logisticRegr[i].fit(scaled_unreduced_train_features,train_labels)\n",
    "    \n",
    "    else:\n",
    "        \n",
    "        logisticRegr[i] = LogisticRegression(penalty='l2',solver='sag')\n",
    "        logisticRegr[i].fit(k[i],train_labels)\n",
    " "
   ]
  },
  {
   "cell_type": "markdown",
   "metadata": {
    "id": "f71a9359-2f8e-41d4-a890-0a37e339c1d0"
   },
   "source": [
    "### 1.3: Model evaluation\n",
    "\n",
    "**1.3b** For each of the trained classifiers in 1.2b, I've calculated the classification accuracy on the training data and the test data. I've also extracted the total explained variance by summing the `PCA.explained_variance_ratio_` for each of the PCA transformations. Finally, I've **Plotted** the training accuracy and test accuracy against the total explained variance at each $k_n$. This also includes the dataset with original unreduced features."
   ]
  },
  {
   "cell_type": "code",
   "execution_count": 232,
   "metadata": {},
   "outputs": [],
   "source": [
    "# Getting the testing and training predictions using the 8-different models created above\n",
    "\n",
    "pred_test = [None]*8\n",
    "pred_train = [None]*8\n",
    "for i in range(0,8):\n",
    "    if(i==0):\n",
    "        pred_test[i] = logisticRegr[i].predict(scaled_unreduced_test_features)\n",
    "        pred_train[i] = logisticRegr[i].predict(scaled_unreduced_train_features)\n",
    "    else:\n",
    "        pred_test[i] = logisticRegr[i].predict(k_test[i])\n",
    "        pred_train[i] = logisticRegr[i].predict(k[i])"
   ]
  },
  {
   "cell_type": "code",
   "execution_count": 235,
   "metadata": {},
   "outputs": [],
   "source": [
    "import sklearn.metrics\n",
    "\n",
    "#Computing the training and test accuracies for the corresponding predictions made above\n",
    "\n",
    "acc_test = [None]*8\n",
    "acc_train = [None]*8\n",
    "for i in range(0,8):\n",
    "    acc_test[i] = sklearn.metrics.accuracy_score(test_labels,pred_test[i])\n",
    "    acc_train[i] = sklearn.metrics.accuracy_score(train_labels,pred_train[i])\n",
    "   "
   ]
  },
  {
   "cell_type": "code",
   "execution_count": 262,
   "metadata": {},
   "outputs": [],
   "source": [
    "tot_var = [None]*8\n",
    "#Extracting the total explained variance ratio for each of the PCA transformations\n",
    "\n",
    "for i in range(0,8):\n",
    "    tot_var[i] = round(sum(principal[i].explained_variance_ratio_),3)"
   ]
  },
  {
   "cell_type": "code",
   "execution_count": 301,
   "metadata": {},
   "outputs": [
    {
     "data": {
      "image/png": "[encoded data removed]",
      "text/plain": [
       "<Figure size 1224x1008 with 1 Axes>"
      ]
     },
     "metadata": {
      "needs_background": "light"
     },
     "output_type": "display_data"
    }
   ],
   "source": [
    "# Plotting the accuracies of the different models against their respective total explained variance at each Kn\n",
    "\n",
    "X_axis = np.arange(len(tot_var))\n",
    "plt.rcParams[\"figure.figsize\"] = [17,14]\n",
    "plt.bar(X_axis - 0.1, acc_train, 0.3, label = 'Training accuracy')\n",
    "plt.bar(X_axis - 0.5, acc_test, 0.3, label = 'Test accuracy')\n",
    "\n",
    "\n",
    "plt.xticks(X_axis,tot_var)\n",
    "plt.xlabel(\"Total explained variance at Kn\",fontsize=18)\n",
    "plt.ylabel(\"Training accuracy and test accuracy\",fontsize=16)\n",
    "plt.title('Plotting training and test accuracy against the total explained variance at each Kn')\n",
    "plt.legend()\n",
    "\n",
    "\n",
    "\n",
    "plt.show()"
   ]
  },
  {
   "cell_type": "markdown",
   "metadata": {
    "id": "046c1283-b898-42ce-b30c-1853cf501082"
   },
   "source": [
    "**1.3b** Interesting Observations:"
   ]
  },
  {
   "cell_type": "markdown",
   "metadata": {
    "id": "2cb3e110-c887-465b-91cf-6a24bbbbf378"
   },
   "source": [
    "1. From the figure above, it is clear that the model gives a good performance by not including all the features\n",
    "\n",
    "2. The Training accuracy is more than the testing accracy because the the models are trained on the respective train sets\n"
   ]
  },
  {
   "cell_type": "markdown",
   "metadata": {
    "id": "94d478e2-a780-405a-bc7f-d09ac1b83978",
    "tags": []
   },
   "source": [
    "## 2. Convolutional neural networks for image recognition\n",
    "\n",
    "Fashion-MNIST is a dataset of Zalando's article images. It consists of a training set of 60,000 examples and a test set of 10,000 examples. Each example is a 28x28 grayscale image, associated with a label from 10 classes: 0=T-shirt/top; 1=Trouser; 2=Pullover; 3=Dress; 4=Coat; 5=Sandal; 6=Shirt; 7=Sneaker; 8=Bag; 9=Ankle boot.\n",
    "\n",
    "It is available online at https://github.com/zalandoresearch/fashion-mnist but here I will use the version built into PyTorch as part of the TorchVision library [see here for  documentation](https://pytorch.org/vision/stable/generated/torchvision.datasets.FashionMNIST.html#torchvision.datasets.FashionMNIST).\n",
    "\n",
    "In this section, I've used PyTorch to train various forms of neural network models to classify these images."
   ]
  },
  {
   "cell_type": "markdown",
   "metadata": {
    "id": "a60f2a44-b5d2-4bd6-9464-3cec57d1fd03",
    "tags": []
   },
   "source": [
    "### 2.1: Data download and inspection\n",
    "\n",
    "**2.1a** Using the PyTorch Torchvision API to load both the train and test parts of the Fashion-MNIST dataset."
   ]
  },
  {
   "cell_type": "code",
   "execution_count": 1,
   "metadata": {
    "id": "7037c68e-a830-4971-b58d-62ab0b227e2c"
   },
   "outputs": [],
   "source": [
    "%matplotlib inline\n",
    "import matplotlib.pyplot as plt\n",
    "import numpy as np\n",
    "import torch\n",
    "import torch.nn as nn\n",
    "import torch.nn.functional as F\n",
    "import torch.optim as optim\n",
    "import torchvision\n",
    "from torchvision import datasets, transforms"
   ]
  },
  {
   "cell_type": "code",
   "execution_count": 2,
   "metadata": {},
   "outputs": [],
   "source": [
    "import time as time"
   ]
  },
  {
   "cell_type": "code",
   "execution_count": 3,
   "metadata": {},
   "outputs": [],
   "source": [
    "torch.set_printoptions(linewidth=120)"
   ]
  },
  {
   "cell_type": "code",
   "execution_count": 5,
   "metadata": {},
   "outputs": [
    {
     "name": "stdout",
     "output_type": "stream",
     "text": [
      "Training set size: 60000\n",
      "Test set size: 10000\n"
     ]
    }
   ],
   "source": [
    "batchSize=20\n",
    "\n",
    "#Load the training data\n",
    "# let's also normalize the data for faster convergence\n",
    "\n",
    "\n",
    "mean = 0.2859;  std = 0.3530 #initializing the mean and std of the MNIST\n",
    "# import data\n",
    "train_set = torchvision.datasets.FashionMNIST(root=\"./\", download=True,\n",
    "                                              transform=transforms.Compose([transforms.ToTensor(),\n",
    "                                                                            transforms.Normalize(mean, std)\n",
    "                                                                           ]))\n",
    "#data_loader = torch.utils.data.DataLoader(train_set, batch_size=100, shuffle=True)\n",
    "\n",
    "\n",
    "\n",
    "#Load the test data\n",
    "test_set = torchvision.datasets.FashionMNIST(root=\"./\", download=True, \n",
    "                                              train=False,\n",
    "                                              transform=transforms.Compose([transforms.ToTensor()]))\n",
    "\n",
    "\n",
    "print('Training set size:', len(train_set))\n",
    "print('Test set size:',len(test_set))"
   ]
  },
  {
   "cell_type": "markdown",
   "metadata": {
    "id": "7f792535-989e-431b-a803-cbcadfcfb08d",
    "jp-MarkdownHeadingCollapsed": true,
    "tags": []
   },
   "source": [
    "**2.1b** Using the `torch.utils.data.random_split` function to split the 60,000 training set into 2 subsets: the first part will be used for training, the second part will be used for validation. Also created a DataLoader for each of the train, validation, and test splits."
   ]
  },
  {
   "cell_type": "code",
   "execution_count": 6,
   "metadata": {
    "id": "95752d55-c05d-452b-82b5-bd6a7e327222"
   },
   "outputs": [
    {
     "name": "stdout",
     "output_type": "stream",
     "text": [
      "Training set size:  45000\n",
      "Validation set size:  15000\n"
     ]
    }
   ],
   "source": [
    "train_set1, val_set = torch.utils.data.random_split(train_set,[45000,15000],generator=torch.Generator().manual_seed(1765677))\n",
    "\n",
    "\n",
    "#Creating DataLoader for training set\n",
    "train_loader = torch.utils.data.DataLoader(train_set1, batch_size=100,shuffle=True)\n",
    "#Creating DataLoader for validation set\n",
    "val_loader = torch.utils.data.DataLoader(val_set, batch_size=15000,shuffle=True)\n",
    "#Creating DataLoader for test set\n",
    "test_loader = torch.utils.data.DataLoader(test_set, batch_size=10000,shuffle=True)\n",
    "print(\"Training set size: \",len(train_set1))\n",
    "print(\"Validation set size: \",len(val_set))"
   ]
  },
  {
   "cell_type": "markdown",
   "metadata": {
    "id": "0a1bd033-2daa-4078-a5e3-e8fdb277ff43"
   },
   "source": [
    "**2.1c** Displaying a sample image"
   ]
  },
  {
   "cell_type": "code",
   "execution_count": 307,
   "metadata": {},
   "outputs": [],
   "source": [
    "names = ['T-shirt/top','Trouser','Pullover','Dress','Coat','Sandal','Shirt','Sneaker','Bag','Ankle boot']\n",
    "all_classes = [0,1,2,3,4,5,6,7,8,9]"
   ]
  },
  {
   "cell_type": "code",
   "execution_count": 260,
   "metadata": {},
   "outputs": [
    {
     "name": "stdout",
     "output_type": "stream",
     "text": [
      "9\n"
     ]
    },
    {
     "data": {
      "image/png": "[encoded data removed]",
      "text/plain": [
       "<Figure size 432x288 with 1 Axes>"
      ]
     },
     "metadata": {
      "needs_background": "light"
     },
     "output_type": "display_data"
    }
   ],
   "source": [
    "image,lbl = train_set1[8]\n",
    "\n",
    "plt.imshow(image.squeeze())\n",
    "print(lbl)"
   ]
  },
  {
   "cell_type": "markdown",
   "metadata": {
    "id": "04681c0a-8879-4e21-9f76-8e7465f61e51"
   },
   "source": [
    "### 2.2: Network training\n",
    "\n",
    "In this section I will be training a set of neural network models to classify the Fashion-MNIST data set. The number of convolutional (Conv) layers and the number of fully connected (FC) layers has been specified below. I have also designed other aspects of the network. For example, other types of operation (e.g. padding), layers (e.g. pooling, or preprocessing (e.g. augmentation).\n",
    "\n",
    "When training each model I have kept track of the following values:\n",
    "1. Training accuracy\n",
    "2. Validation accuracy\n",
    "3. Test accuracy\n",
    "\n",
    "Note: the accuracy is the number of correct classifications out of that portion of the dataset."
   ]
  },
  {
   "cell_type": "markdown",
   "metadata": {
    "id": "783d669f-7693-428c-a63a-7c9d4706562e"
   },
   "source": [
    "**2.2a** Training a neural network composed of **2 fully connected layers**. Training the model on the training set, and using the validation set to choose the best design among **at least three different** choices, and testing the chosen model on the test set.\n",
    "\n"
   ]
  },
  {
   "cell_type": "code",
   "execution_count": 10,
   "metadata": {},
   "outputs": [],
   "source": [
    "@torch.no_grad()\n",
    "def total_match(preds, labels):\n",
    "    \"\"\"function that returns the accuracy of our architecture\"\"\"\n",
    "    \n",
    "    return preds.argmax(dim=1).eq(labels).sum().item()"
   ]
  },
  {
   "cell_type": "code",
   "execution_count": 11,
   "metadata": {},
   "outputs": [],
   "source": [
    "def CNN_training(learning_rate,train_set,data_loader):\n",
    "    optimizer = optim.Adam(lr=learning_rate,params=cnn_model.parameters())\n",
    "    \n",
    "    for epoch in range(5):\n",
    "        start_time = time.time()\n",
    "        total_correct = 0\n",
    "        total_loss = 0\n",
    "        for batch in data_loader:\n",
    "            imgs, lbls = batch\n",
    "            preds = cnn_model(imgs)\n",
    "            loss = F.cross_entropy(preds, lbls)\n",
    "            optimizer.zero_grad()\n",
    "            loss.backward()\n",
    "            optimizer.step()\n",
    "            \n",
    "            total_loss += loss.item()\n",
    "            total_correct += total_match(preds, lbls)\n",
    "            accuracy = total_correct/len(train_set)\n",
    "        end_time = time.time() - start_time\n",
    "        print(\"Epoch no. \",epoch+1, \"|accuracy: \",round(accuracy,3),\"%\", \"|total_loss:\",total_loss, \"|epochduration: \",round(end_time,2),\"sec\")"
   ]
  },
  {
   "cell_type": "code",
   "execution_count": 315,
   "metadata": {
    "id": "ab15bb0d-7327-480f-9f1a-c46f142c6cc0"
   },
   "outputs": [],
   "source": [
    "\n",
    "class My_Network(nn.Module): # extend nn.Module class of nn\n",
    "    def __init__(self):\n",
    "        super().__init__() # super class constructor\n",
    "        self.fc1 = nn.Linear(in_features=784, out_features=20)\n",
    "    \n",
    "        self.fc2 = nn.Linear(in_features=20, out_features=10)\n",
    "       \n",
    "        \n",
    "        \n",
    "        \n",
    "    def forward(self, t): # implements the forward method (flow of tensors)\n",
    "        \n",
    "        t = t.view(t.shape[0],-1)\n",
    "        t = F.relu(self.fc1(t))\n",
    "        t = F.log_softmax(self.fc2(t),dim=1)\n",
    "        return t        "
   ]
  },
  {
   "cell_type": "code",
   "execution_count": 316,
   "metadata": {},
   "outputs": [
    {
     "name": "stdout",
     "output_type": "stream",
     "text": [
      "Epoch no.  1 |accuracy:  0.806 % |total_loss: 238.61478631198406 |epochduration:  23.6 sec\n",
      "Epoch no.  2 |accuracy:  0.842 % |total_loss: 194.66426573693752 |epochduration:  23.14 sec\n",
      "Epoch no.  3 |accuracy:  0.85 % |total_loss: 183.5469655841589 |epochduration:  23.13 sec\n",
      "Epoch no.  4 |accuracy:  0.858 % |total_loss: 177.401079967618 |epochduration:  23.64 sec\n",
      "Epoch no.  5 |accuracy:  0.859 % |total_loss: 173.74226860702038 |epochduration:  23.23 sec\n"
     ]
    }
   ],
   "source": [
    "cnn_model = My_Network()\n",
    "CNN_training(0.01,train_set1,train_loader)"
   ]
  },
  {
   "cell_type": "code",
   "execution_count": 317,
   "metadata": {},
   "outputs": [
    {
     "name": "stdout",
     "output_type": "stream",
     "text": [
      "The validation accuracy for this architecture is :  84.453 %\n"
     ]
    }
   ],
   "source": [
    "imgs,lbls = next(iter(val_loader))\n",
    "val_preds = cnn_model(imgs)\n",
    "tot = total_match(val_preds,lbls)\n",
    "acc = round((tot/15000)*100,3)\n",
    "print(\"The validation accuracy for this architecture is : \",acc,\"%\")"
   ]
  },
  {
   "cell_type": "code",
   "execution_count": 318,
   "metadata": {},
   "outputs": [],
   "source": [
    "temp_model11 = cnn_model"
   ]
  },
  {
   "cell_type": "code",
   "execution_count": 325,
   "metadata": {},
   "outputs": [],
   "source": [
    "\n",
    "class My_Network(nn.Module): # extend nn.Module class of nn\n",
    "    def __init__(self):\n",
    "        super().__init__() # super class constructor\n",
    "        self.fc1 = nn.Linear(in_features=784, out_features=256)\n",
    "        \n",
    "        self.fc2 = nn.Linear(in_features=256, out_features=10)\n",
    "        \n",
    "        \n",
    "        \n",
    "    def forward(self, t): # implements the forward method (flow of tensors)\n",
    "        t = t.view(t.shape[0],-1)\n",
    "        t = F.relu(self.fc1(t))\n",
    "        t = F.log_softmax(self.fc2(t),dim=1)\n",
    "        return t        "
   ]
  },
  {
   "cell_type": "code",
   "execution_count": 326,
   "metadata": {},
   "outputs": [
    {
     "name": "stdout",
     "output_type": "stream",
     "text": [
      "Epoch no.  1 |accuracy:  0.814 % |total_loss: 240.9465250968933 |epochduration:  40.45 sec\n",
      "Epoch no.  2 |accuracy:  0.849 % |total_loss: 197.35249523818493 |epochduration:  32.83 sec\n",
      "Epoch no.  3 |accuracy:  0.855 % |total_loss: 183.99944226443768 |epochduration:  33.85 sec\n",
      "Epoch no.  4 |accuracy:  0.863 % |total_loss: 173.14042419195175 |epochduration:  38.15 sec\n",
      "Epoch no.  5 |accuracy:  0.864 % |total_loss: 171.48070539534092 |epochduration:  27.55 sec\n"
     ]
    }
   ],
   "source": [
    "cnn_model = My_Network()\n",
    "CNN_training(0.01,train_set1,train_loader)"
   ]
  },
  {
   "cell_type": "code",
   "execution_count": 327,
   "metadata": {},
   "outputs": [
    {
     "name": "stdout",
     "output_type": "stream",
     "text": [
      "The validation accuracy for this architecture is :  85.327 %\n"
     ]
    }
   ],
   "source": [
    "imgs,lbls = next(iter(val_loader))\n",
    "val_preds = cnn_model(imgs)\n",
    "tot = total_match(val_preds,lbls)\n",
    "acc = round((tot/15000)*100,3)\n",
    "print(\"The validation accuracy for this architecture is : \",acc,\"%\")"
   ]
  },
  {
   "cell_type": "code",
   "execution_count": 328,
   "metadata": {},
   "outputs": [],
   "source": [
    "temp_model12 = cnn_model"
   ]
  },
  {
   "cell_type": "code",
   "execution_count": 329,
   "metadata": {},
   "outputs": [],
   "source": [
    "# Write your code here.\n",
    "\n",
    "class My_Network(nn.Module): # extend nn.Module class of nn\n",
    "    def __init__(self):\n",
    "        super().__init__() # super class constructor\n",
    "        self.fc1 = nn.Linear(in_features=784, out_features=512)\n",
    "        \n",
    "        self.fc2 = nn.Linear(in_features=512, out_features=10)\n",
    "        \n",
    "        \n",
    "        \n",
    "    def forward(self, t): # implements the forward method (flow of tensors)\n",
    "        t = t.view(t.shape[0],-1)\n",
    "        t = F.relu(self.fc1(t))\n",
    "        t = F.log_softmax(self.fc2(t),dim=1)\n",
    "        return t        "
   ]
  },
  {
   "cell_type": "code",
   "execution_count": 330,
   "metadata": {},
   "outputs": [
    {
     "name": "stdout",
     "output_type": "stream",
     "text": [
      "Epoch no.  1 |accuracy:  0.807 % |total_loss: 271.57324519753456 |epochduration:  32.39 sec\n",
      "Epoch no.  2 |accuracy:  0.842 % |total_loss: 205.95352022349834 |epochduration:  36.52 sec\n",
      "Epoch no.  3 |accuracy:  0.859 % |total_loss: 178.24395588040352 |epochduration:  36.27 sec\n",
      "Epoch no.  4 |accuracy:  0.857 % |total_loss: 188.6062457561493 |epochduration:  32.27 sec\n",
      "Epoch no.  5 |accuracy:  0.863 % |total_loss: 178.59960633516312 |epochduration:  38.28 sec\n"
     ]
    }
   ],
   "source": [
    "cnn_model = My_Network()\n",
    "CNN_training(0.01,train_set1,train_loader)"
   ]
  },
  {
   "cell_type": "code",
   "execution_count": 331,
   "metadata": {},
   "outputs": [
    {
     "name": "stdout",
     "output_type": "stream",
     "text": [
      "The validation accuracy for this architecture is :  86.373 %\n"
     ]
    }
   ],
   "source": [
    "imgs,lbls = next(iter(val_loader))\n",
    "val_preds = cnn_model(imgs)\n",
    "tot = total_match(val_preds,lbls)\n",
    "acc = round((tot/15000)*100,3)\n",
    "print(\"The validation accuracy for this architecture is : \",acc,\"%\")"
   ]
  },
  {
   "cell_type": "code",
   "execution_count": 332,
   "metadata": {},
   "outputs": [],
   "source": [
    "temp_model13 = cnn_model"
   ]
  },
  {
   "cell_type": "markdown",
   "metadata": {},
   "source": [
    "### The chosen model has a validation accuracy of 86.373 %"
   ]
  },
  {
   "cell_type": "code",
   "execution_count": 333,
   "metadata": {},
   "outputs": [],
   "source": [
    "final_model1 = temp_model13"
   ]
  },
  {
   "cell_type": "code",
   "execution_count": 334,
   "metadata": {},
   "outputs": [
    {
     "name": "stdout",
     "output_type": "stream",
     "text": [
      "The test accuracy of the chosen model is  68.84 %\n"
     ]
    }
   ],
   "source": [
    "ims,lbs = next(iter(test_loader))\n",
    "test_preds = final_model1(ims)\n",
    "tot = total_match(test_preds,lbs)\n",
    "acc = round((tot/10000)*100,3)\n",
    "print(\"The test accuracy of the chosen model is \",acc,\"%\")"
   ]
  },
  {
   "cell_type": "markdown",
   "metadata": {},
   "source": [
    "### The chosen model has a test accuracy of 68.84 %"
   ]
  },
  {
   "cell_type": "code",
   "execution_count": 335,
   "metadata": {},
   "outputs": [
    {
     "name": "stdout",
     "output_type": "stream",
     "text": [
      "The train accuracy of the chosen model is  87.647 %\n"
     ]
    }
   ],
   "source": [
    "tot =0\n",
    "for data in train_loader:\n",
    "    img,lbl = data\n",
    "    train_preds = final_model1(img)\n",
    "    tot += total_match(train_preds,lbl)\n",
    "acc = round((tot/len(train_set1))*100,3)\n",
    "print(\"The train accuracy of the chosen model is \",acc,\"%\")"
   ]
  },
  {
   "cell_type": "markdown",
   "metadata": {},
   "source": [
    "### The chosen model has a training accuracy of 87.647 %"
   ]
  },
  {
   "cell_type": "markdown",
   "metadata": {},
   "source": []
  },
  {
   "cell_type": "markdown",
   "metadata": {
    "id": "4565c0f1-5768-4b2e-ad8f-3d29e88a3061"
   },
   "source": [
    "**2.2b** Training a neural network composed of **2 convolutional layers and 2 fully connected layers**. Training the model on the training set, and using the validation set to choose the best design among **at least three different** choices, and testing the chosen model on the test set."
   ]
  },
  {
   "cell_type": "code",
   "execution_count": 22,
   "metadata": {
    "id": "22da30e7-36ba-445d-b671-41d1014b2a28"
   },
   "outputs": [],
   "source": [
    "class My_Network(nn.Module): # extend nn.Module class of nn\n",
    "    def __init__(self):\n",
    "        super().__init__() # super class constructor\n",
    "        self.batchN0 = nn.BatchNorm2d(num_features=1)\n",
    "        self.conv1 = nn.Conv2d(in_channels=1, out_channels=4, kernel_size=(5,5))\n",
    "        self.batchN1 = nn.BatchNorm2d(num_features=4)\n",
    "        self.conv2 = nn.Conv2d(in_channels=4, out_channels=12, kernel_size=(5,5))\n",
    "        self.fc1 = nn.Linear(in_features=12*4*4, out_features=120)\n",
    "        self.batchN2 = nn.BatchNorm1d(num_features=120)\n",
    "        self.fc2 = nn.Linear(in_features=120, out_features=60)\n",
    "        self.out = nn.Linear(in_features=60, out_features=10)\n",
    "        \n",
    "        \n",
    "        \n",
    "    def forward(self, t): # implements the forward method (flow of tensors)\n",
    "        \n",
    "        # hidden conv layer \n",
    "        t = self.batchN0(t)\n",
    "        t = self.conv1(t)\n",
    "        t = F.max_pool2d(input=t, kernel_size=2, stride=2)\n",
    "        t = F.relu(t)\n",
    "        t = self.batchN1(t)\n",
    "        \n",
    "        # hidden conv layer\n",
    "        t = self.conv2(t)\n",
    "        t = F.max_pool2d(input=t, kernel_size=2, stride=2)\n",
    "        t = F.relu(t)\n",
    "        \n",
    "        # flatten\n",
    "        t = t.reshape(-1, 12*4*4)\n",
    "        t = self.fc1(t)\n",
    "        t = F.relu(t)\n",
    "        t = self.batchN2(t)\n",
    "        t = self.fc2(t)\n",
    "        t = F.relu(t)\n",
    "        \n",
    "        # output\n",
    "        t = self.out(t)\n",
    "        \n",
    "        return t        "
   ]
  },
  {
   "cell_type": "code",
   "execution_count": 23,
   "metadata": {},
   "outputs": [
    {
     "name": "stdout",
     "output_type": "stream",
     "text": [
      "Epoch no.  1 |accuracy:  0.819 % |total_loss: 220.76692217588425 |epochduration:  37.17 sec\n",
      "Epoch no.  2 |accuracy:  0.861 % |total_loss: 165.8428691625595 |epochduration:  37.33 sec\n",
      "Epoch no.  3 |accuracy:  0.874 % |total_loss: 152.1962285786867 |epochduration:  37.46 sec\n",
      "Epoch no.  4 |accuracy:  0.881 % |total_loss: 142.90625350177288 |epochduration:  38.22 sec\n",
      "Epoch no.  5 |accuracy:  0.883 % |total_loss: 137.6844441741705 |epochduration:  37.75 sec\n"
     ]
    }
   ],
   "source": [
    "cnn_model = My_Network()\n",
    "CNN_training(0.01,train_set1,train_loader)"
   ]
  },
  {
   "cell_type": "code",
   "execution_count": 24,
   "metadata": {},
   "outputs": [
    {
     "name": "stdout",
     "output_type": "stream",
     "text": [
      "The validation accuracy for this architecture is  87.9  %\n"
     ]
    }
   ],
   "source": [
    "ims,lbs = next(iter(val_loader))\n",
    "val_preds = cnn_model(ims)\n",
    "tot = total_match(val_preds,lbs)\n",
    "acc = tot/15000\n",
    "acc = round(acc,3)*100\n",
    "print(\"The validation accuracy for this architecture is \",acc,\" %\")"
   ]
  },
  {
   "cell_type": "code",
   "execution_count": 40,
   "metadata": {},
   "outputs": [],
   "source": [
    "temp_model21 = cnn_model"
   ]
  },
  {
   "cell_type": "code",
   "execution_count": 28,
   "metadata": {},
   "outputs": [],
   "source": [
    "class My_Network(nn.Module): # extend nn.Module class of nn\n",
    "    def __init__(self):\n",
    "        super().__init__() # super class constructor\n",
    "        self.conv1 = nn.Conv2d(in_channels=1, out_channels=8, kernel_size=(5,5))\n",
    "        self.batchN1 = nn.BatchNorm2d(num_features=8)\n",
    "        self.conv2 = nn.Conv2d(in_channels=8, out_channels=12, kernel_size=(5,5))\n",
    "        self.fc1 = nn.Linear(in_features=12*4*4, out_features=120)\n",
    "        self.batchN2 = nn.BatchNorm1d(num_features=120)\n",
    "        self.fc2 = nn.Linear(in_features=120, out_features=60)\n",
    "        self.out = nn.Linear(in_features=60, out_features=10)\n",
    "        \n",
    "        \n",
    "        \n",
    "    def forward(self, t): # implements the forward method (flow of tensors)\n",
    "        \n",
    "        # hidden conv layer \n",
    "        t = self.conv1(t)\n",
    "        t = F.max_pool2d(input=t, kernel_size=2, stride=2)\n",
    "        t = F.relu(t)\n",
    "        t = self.batchN1(t)\n",
    "        \n",
    "        # hidden conv layer\n",
    "        t = self.conv2(t)\n",
    "        t = F.max_pool2d(input=t, kernel_size=2, stride=2)\n",
    "        t = F.relu(t)\n",
    "        \n",
    "        # flatten\n",
    "        t = t.reshape(-1, 12*4*4)\n",
    "        t = self.fc1(t)\n",
    "        t = F.relu(t)\n",
    "        t = self.batchN2(t)\n",
    "        t = self.fc2(t)\n",
    "        t = F.relu(t)\n",
    "        \n",
    "        # output\n",
    "        t = self.out(t)\n",
    "        \n",
    "        return t        "
   ]
  },
  {
   "cell_type": "code",
   "execution_count": 29,
   "metadata": {},
   "outputs": [
    {
     "name": "stdout",
     "output_type": "stream",
     "text": [
      "Epoch no.  1 |accuracy:  0.823 % |total_loss: 216.11097733676434 |epochduration:  41.51 sec\n",
      "Epoch no.  2 |accuracy:  0.871 % |total_loss: 157.210000872612 |epochduration:  39.31 sec\n",
      "Epoch no.  3 |accuracy:  0.882 % |total_loss: 143.14215572178364 |epochduration:  40.19 sec\n",
      "Epoch no.  4 |accuracy:  0.893 % |total_loss: 131.8436310738325 |epochduration:  39.48 sec\n",
      "Epoch no.  5 |accuracy:  0.898 % |total_loss: 126.4044260084629 |epochduration:  39.52 sec\n"
     ]
    }
   ],
   "source": [
    "cnn_model = My_Network()\n",
    "CNN_training(0.01,train_set1,train_loader)"
   ]
  },
  {
   "cell_type": "code",
   "execution_count": 30,
   "metadata": {},
   "outputs": [
    {
     "name": "stdout",
     "output_type": "stream",
     "text": [
      "The validation accuracy for this architecture is  88.7  %\n"
     ]
    }
   ],
   "source": [
    "ims,lbs = next(iter(val_loader))\n",
    "val_preds = cnn_model(ims)\n",
    "tot = total_match(val_preds,lbs)\n",
    "acc = tot/15000\n",
    "acc = round(acc,3)*100\n",
    "print(\"The validation accuracy for this architecture is \",acc,\" %\")"
   ]
  },
  {
   "cell_type": "code",
   "execution_count": 41,
   "metadata": {},
   "outputs": [],
   "source": [
    "temp_model22 = cnn_model"
   ]
  },
  {
   "cell_type": "code",
   "execution_count": 338,
   "metadata": {},
   "outputs": [],
   "source": [
    "\n",
    "class My_Network(nn.Module): # extend nn.Module class of nn\n",
    "    def __init__(self):\n",
    "        super().__init__() # super class constructor\n",
    "        self.conv1 = nn.Conv2d(in_channels=1, out_channels=20, kernel_size=(5,5))\n",
    "        self.batchN1 = nn.BatchNorm2d(num_features=20)\n",
    "        self.conv2 = nn.Conv2d(in_channels=20, out_channels=24, kernel_size=(5,5))\n",
    "        self.fc1 = nn.Linear(in_features=24*4*4, out_features=100)\n",
    "        self.batchN2 = nn.BatchNorm1d(num_features=100)\n",
    "        self.fc2 = nn.Linear(in_features=100, out_features=60)\n",
    "        \n",
    "        \n",
    "        \n",
    "    def forward(self, t): # implements the forward method (flow of tensors)\n",
    "        \n",
    "        # hidden conv layer \n",
    "        t = self.conv1(t)\n",
    "        t = F.max_pool2d(input=t, kernel_size=2, stride=2)\n",
    "        t = F.relu(t)\n",
    "        t = self.batchN1(t)\n",
    "        \n",
    "        # hidden conv layer\n",
    "        t = self.conv2(t)\n",
    "        t = F.max_pool2d(input=t, kernel_size=2, stride=2)\n",
    "        t = F.relu(t)\n",
    "        \n",
    "        # flatten\n",
    "        t = t.reshape(-1, 24*4*4)\n",
    "        t = self.fc1(t)\n",
    "        t = F.relu(t)\n",
    "        t = self.batchN2(t)\n",
    "        t = self.fc2(t)\n",
    "        t = F.relu(t)\n",
    "        \n",
    "        # output\n",
    "        t = F.log_softmax(t,dim=1)\n",
    "        \n",
    "        return t        "
   ]
  },
  {
   "cell_type": "code",
   "execution_count": 339,
   "metadata": {},
   "outputs": [
    {
     "name": "stdout",
     "output_type": "stream",
     "text": [
      "Epoch no.  1 |accuracy:  0.83 % |total_loss: 215.7347368001938 |epochduration:  67.35 sec\n",
      "Epoch no.  2 |accuracy:  0.879 % |total_loss: 151.02298820018768 |epochduration:  65.83 sec\n",
      "Epoch no.  3 |accuracy:  0.893 % |total_loss: 131.57582406699657 |epochduration:  66.51 sec\n",
      "Epoch no.  4 |accuracy:  0.902 % |total_loss: 120.0370751991868 |epochduration:  67.31 sec\n",
      "Epoch no.  5 |accuracy:  0.907 % |total_loss: 111.87199299037457 |epochduration:  74.09 sec\n"
     ]
    }
   ],
   "source": [
    "cnn_model = My_Network()\n",
    "CNN_training(0.01,train_set1,train_loader)"
   ]
  },
  {
   "cell_type": "code",
   "execution_count": 340,
   "metadata": {},
   "outputs": [
    {
     "name": "stdout",
     "output_type": "stream",
     "text": [
      "The validation accuracy for this architecture is  90.32  %\n"
     ]
    }
   ],
   "source": [
    "ims,lbs = next(iter(val_loader))\n",
    "val_preds = cnn_model(ims)\n",
    "tot = total_match(val_preds,lbs)\n",
    "acc = round((tot/15000)*100,3)\n",
    "print(\"The validation accuracy for this architecture is \",acc,\" %\")"
   ]
  },
  {
   "cell_type": "code",
   "execution_count": 341,
   "metadata": {},
   "outputs": [],
   "source": [
    "temp_model23 = cnn_model"
   ]
  },
  {
   "cell_type": "markdown",
   "metadata": {},
   "source": [
    "## The chosen model has the validation accuracy of 90.32  %"
   ]
  },
  {
   "cell_type": "code",
   "execution_count": 342,
   "metadata": {},
   "outputs": [],
   "source": [
    "final_model2 = temp_model23"
   ]
  },
  {
   "cell_type": "code",
   "execution_count": 344,
   "metadata": {},
   "outputs": [
    {
     "name": "stdout",
     "output_type": "stream",
     "text": [
      "The test accuracy of the chosen model  81.69999999999999  %\n"
     ]
    }
   ],
   "source": [
    "ims,lbs = next(iter(test_loader))\n",
    "test_preds = final_model2(ims)\n",
    "tot = total_match(test_preds,lbs)\n",
    "acc = tot/10000 \n",
    "acc = round(acc,3)*100\n",
    "print(\"The test accuracy of the chosen model \",acc,\" %\")"
   ]
  },
  {
   "cell_type": "markdown",
   "metadata": {},
   "source": [
    "## The chosen model gives a test accuracy of 81.69 %"
   ]
  },
  {
   "cell_type": "code",
   "execution_count": 345,
   "metadata": {},
   "outputs": [
    {
     "name": "stdout",
     "output_type": "stream",
     "text": [
      "The train accuracy of the chosen model is  91.876 %\n"
     ]
    }
   ],
   "source": [
    "tot =0\n",
    "for data in train_loader:\n",
    "    img,lbl = data\n",
    "    train_preds = final_model2(img)\n",
    "    tot += total_match(train_preds,lbl)\n",
    "acc = round((tot/len(train_set1))*100,3)\n",
    "print(\"The train accuracy of the chosen model is \",acc,\"%\")"
   ]
  },
  {
   "cell_type": "markdown",
   "metadata": {},
   "source": [
    "### The chosen model gives a training accuracy of 91.876 %"
   ]
  },
  {
   "cell_type": "markdown",
   "metadata": {},
   "source": []
  },
  {
   "cell_type": "markdown",
   "metadata": {
    "id": "b8a3c643-dc01-42e0-ad87-9e8a323927c2"
   },
   "source": [
    "**2.2c** Training a neural network composed of **3 convolutional layers and 3 fully connected layers**. Training the model on the training set, and using the validation set to choose the best design among **at least three different** choices, and testing the chosen model on the test set."
   ]
  },
  {
   "cell_type": "code",
   "execution_count": 52,
   "metadata": {
    "id": "63d6f794-885b-4da5-9ae9-0e2a1e4a2d93"
   },
   "outputs": [],
   "source": [
    "class My_Network(nn.Module): # extend nn.Module class of nn\n",
    "    def __init__(self):\n",
    "        super().__init__() # super class constructor\n",
    "        self.conv1 = nn.Conv2d(in_channels=1, out_channels=8, kernel_size=(5,5))\n",
    "        self.batchN1 = nn.BatchNorm2d(num_features=8)\n",
    "        self.conv2 = nn.Conv2d(in_channels=8, out_channels=16, kernel_size=(5,5))\n",
    "        self.batchN2 = nn.BatchNorm2d(num_features=16)\n",
    "        self.conv3 = nn.Conv2d(in_channels=16, out_channels=20, kernel_size=(5,5))\n",
    "        \n",
    "        self.fc1 = nn.Linear(in_features=20*1*1, out_features=120)\n",
    "        self.batchN3 = nn.BatchNorm1d(num_features=120)\n",
    "        self.fc2 = nn.Linear(in_features=120, out_features=60)\n",
    "        self.batchN4 = nn.BatchNorm1d(num_features=60)\n",
    "        self.fc3 = nn.Linear(in_features=60, out_features=20)\n",
    "        self.out = nn.Linear(in_features=20, out_features=10)\n",
    "        \n",
    "        \n",
    "        \n",
    "    def forward(self, t): # implements the forward method (flow of tensors)\n",
    "        \n",
    "        # hidden conv layer \n",
    "        t = self.conv1(t)\n",
    "        t = F.max_pool2d(input=t, kernel_size=6, stride=1)\n",
    "        t = F.relu(t)\n",
    "        t = self.batchN1(t)\n",
    "        \n",
    "        # hidden conv layer\n",
    "        t = self.conv2(t)\n",
    "        t = F.max_pool2d(input=t, kernel_size=6, stride=1)\n",
    "        t = F.relu(t)\n",
    "        t = self.batchN2(t)\n",
    "        \n",
    "        #hidden conv layer\n",
    "        t = self.conv3(t)\n",
    "        t = F.max_pool2d(input=t, kernel_size=6, stride=1)\n",
    "        t = F.relu(t)\n",
    "        #print(t.shape)\n",
    "        # flatten\n",
    "        t = t.reshape(-1, 20*1*1)\n",
    "        t = self.fc1(t)\n",
    "        t = F.relu(t)\n",
    "        t = self.batchN3(t)\n",
    "        t = self.fc2(t)\n",
    "        t = F.relu(t)\n",
    "        t = self.batchN4(t)\n",
    "        t = self.fc3(t)\n",
    "        t = F.relu(t)\n",
    "        \n",
    "        # output\n",
    "        t = self.out(t)\n",
    "        \n",
    "        return t        "
   ]
  },
  {
   "cell_type": "code",
   "execution_count": 53,
   "metadata": {},
   "outputs": [
    {
     "name": "stdout",
     "output_type": "stream",
     "text": [
      "Epoch no.  1 |accuracy:  0.743 % |total_loss: 308.46967831254005 |epochduration:  91.37 sec\n",
      "Epoch no.  2 |accuracy:  0.821 % |total_loss: 215.02247186005116 |epochduration:  83.24 sec\n",
      "Epoch no.  3 |accuracy:  0.843 % |total_loss: 190.34145210683346 |epochduration:  85.15 sec\n",
      "Epoch no.  4 |accuracy:  0.853 % |total_loss: 180.71014069020748 |epochduration:  85.96 sec\n",
      "Epoch no.  5 |accuracy:  0.858 % |total_loss: 170.3039806485176 |epochduration:  83.56 sec\n"
     ]
    }
   ],
   "source": [
    "cnn_model = My_Network()\n",
    "CNN_training(0.01,train_set1,train_loader)"
   ]
  },
  {
   "cell_type": "code",
   "execution_count": 54,
   "metadata": {},
   "outputs": [
    {
     "name": "stdout",
     "output_type": "stream",
     "text": [
      "The validation accuracy for this architecture is  85.8  %\n"
     ]
    }
   ],
   "source": [
    "ims,lbs = next(iter(val_loader))\n",
    "val_preds = cnn_model(ims)\n",
    "tot = total_match(val_preds,lbs)\n",
    "acc = tot/15000\n",
    "acc = round(acc,3)*100\n",
    "print(\"The validation accuracy for this architecture is \",acc,\" %\")"
   ]
  },
  {
   "cell_type": "code",
   "execution_count": 55,
   "metadata": {},
   "outputs": [],
   "source": [
    "temp31 = cnn_model"
   ]
  },
  {
   "cell_type": "code",
   "execution_count": 58,
   "metadata": {},
   "outputs": [],
   "source": [
    "class My_Network(nn.Module): # extend nn.Module class of nn\n",
    "    def __init__(self):\n",
    "        super().__init__() # super class constructor\n",
    "        self.conv1 = nn.Conv2d(in_channels=1, out_channels=10, kernel_size=(5,5))\n",
    "        self.batchN1 = nn.BatchNorm2d(num_features=10)\n",
    "        self.conv2 = nn.Conv2d(in_channels=10, out_channels=15, kernel_size=(5,5))\n",
    "        self.batchN2 = nn.BatchNorm2d(num_features=15)\n",
    "        self.conv3 = nn.Conv2d(in_channels=15, out_channels=20, kernel_size=(5,5))\n",
    "        \n",
    "        self.fc1 = nn.Linear(in_features=20*1*1, out_features=120)\n",
    "        self.batchN3 = nn.BatchNorm1d(num_features=120)\n",
    "        self.fc2 = nn.Linear(in_features=120, out_features=60)\n",
    "        self.batchN4 = nn.BatchNorm1d(num_features=60)\n",
    "        self.fc3 = nn.Linear(in_features=60, out_features=20)\n",
    "        self.out = nn.Linear(in_features=20, out_features=10)\n",
    "        \n",
    "        \n",
    "        \n",
    "    def forward(self, t): # implements the forward method (flow of tensors)\n",
    "        \n",
    "        # hidden conv layer \n",
    "        t = self.conv1(t)\n",
    "        t = F.max_pool2d(input=t, kernel_size=6, stride=1)\n",
    "        t = F.relu(t)\n",
    "        t = self.batchN1(t)\n",
    "        \n",
    "        # hidden conv layer\n",
    "        t = self.conv2(t)\n",
    "        t = F.max_pool2d(input=t, kernel_size=6, stride=1)\n",
    "        t = F.relu(t)\n",
    "        t = self.batchN2(t)\n",
    "        \n",
    "        #hidden conv layer\n",
    "        t = self.conv3(t)\n",
    "        t = F.max_pool2d(input=t, kernel_size=6, stride=1)\n",
    "        t = F.relu(t)\n",
    "        #print(t.shape)\n",
    "        # flatten\n",
    "        t = t.reshape(-1, 20*1*1)\n",
    "        t = self.fc1(t)\n",
    "        t = F.relu(t)\n",
    "        t = self.batchN3(t)\n",
    "        t = self.fc2(t)\n",
    "        t = F.relu(t)\n",
    "        t = self.batchN4(t)\n",
    "        t = self.fc3(t)\n",
    "        t = F.relu(t)\n",
    "        \n",
    "        # output\n",
    "        t = self.out(t)\n",
    "        \n",
    "        return t        "
   ]
  },
  {
   "cell_type": "code",
   "execution_count": 59,
   "metadata": {},
   "outputs": [
    {
     "name": "stdout",
     "output_type": "stream",
     "text": [
      "Epoch no.  1 |accuracy:  0.758 % |total_loss: 295.30635020136833 |epochduration:  95.68 sec\n",
      "Epoch no.  2 |accuracy:  0.838 % |total_loss: 200.40110385417938 |epochduration:  93.13 sec\n",
      "Epoch no.  3 |accuracy:  0.854 % |total_loss: 181.4231562167406 |epochduration:  93.5 sec\n",
      "Epoch no.  4 |accuracy:  0.862 % |total_loss: 171.1622053384781 |epochduration:  92.64 sec\n",
      "Epoch no.  5 |accuracy:  0.869 % |total_loss: 161.06062079966068 |epochduration:  93.98 sec\n"
     ]
    }
   ],
   "source": [
    "cnn_model = My_Network()\n",
    "CNN_training(0.01,train_set1,train_loader)"
   ]
  },
  {
   "cell_type": "code",
   "execution_count": 60,
   "metadata": {},
   "outputs": [
    {
     "name": "stdout",
     "output_type": "stream",
     "text": [
      "The validation accuracy for this architecture is  87.0  %\n"
     ]
    }
   ],
   "source": [
    "ims,lbs = next(iter(val_loader))\n",
    "val_preds = cnn_model(ims)\n",
    "tot = total_match(val_preds,lbs)\n",
    "acc = tot/15000\n",
    "acc = round(acc,3)*100\n",
    "print(\"The validation accuracy for this architecture is \",acc,\" %\")"
   ]
  },
  {
   "cell_type": "code",
   "execution_count": 61,
   "metadata": {},
   "outputs": [],
   "source": [
    "temp32 = cnn_model"
   ]
  },
  {
   "cell_type": "code",
   "execution_count": 63,
   "metadata": {},
   "outputs": [],
   "source": [
    "class My_Network(nn.Module): # extend nn.Module class of nn\n",
    "    def __init__(self):\n",
    "        super().__init__() # super class constructor\n",
    "        self.conv1 = nn.Conv2d(in_channels=1, out_channels=12, kernel_size=(5,5))\n",
    "        self.batchN1 = nn.BatchNorm2d(num_features=12)\n",
    "        self.conv2 = nn.Conv2d(in_channels=12, out_channels=18, kernel_size=(5,5))\n",
    "        self.batchN2 = nn.BatchNorm2d(num_features=18)\n",
    "        self.conv3 = nn.Conv2d(in_channels=18, out_channels=25, kernel_size=(5,5))\n",
    "        \n",
    "        self.fc1 = nn.Linear(in_features=25*1*1, out_features=150)\n",
    "        self.batchN3 = nn.BatchNorm1d(num_features=150)\n",
    "        self.fc2 = nn.Linear(in_features=150, out_features=75)\n",
    "        self.batchN4 = nn.BatchNorm1d(num_features=75)\n",
    "        self.fc3 = nn.Linear(in_features=75, out_features=15)\n",
    "        self.out = nn.Linear(in_features=15, out_features=10)\n",
    "        \n",
    "        \n",
    "        \n",
    "    def forward(self, t): # implements the forward method (flow of tensors)\n",
    "        \n",
    "        # hidden conv layer \n",
    "        t = self.conv1(t)\n",
    "        t = F.max_pool2d(input=t, kernel_size=6, stride=1)\n",
    "        t = F.relu(t)\n",
    "        t = self.batchN1(t)\n",
    "        \n",
    "        # hidden conv layer\n",
    "        t = self.conv2(t)\n",
    "        t = F.max_pool2d(input=t, kernel_size=6, stride=1)\n",
    "        t = F.relu(t)\n",
    "        t = self.batchN2(t)\n",
    "        \n",
    "        #hidden conv layer\n",
    "        t = self.conv3(t)\n",
    "        t = F.max_pool2d(input=t, kernel_size=6, stride=1)\n",
    "        t = F.relu(t)\n",
    "        #print(t.shape)\n",
    "        # flatten\n",
    "        t = t.reshape(-1, 25*1*1)\n",
    "        t = self.fc1(t)\n",
    "        t = F.relu(t)\n",
    "        t = self.batchN3(t)\n",
    "        t = self.fc2(t)\n",
    "        t = F.relu(t)\n",
    "        t = self.batchN4(t)\n",
    "        t = self.fc3(t)\n",
    "        t = F.relu(t)\n",
    "        \n",
    "        # output\n",
    "        t = self.out(t)\n",
    "        \n",
    "        return t        "
   ]
  },
  {
   "cell_type": "code",
   "execution_count": 64,
   "metadata": {},
   "outputs": [
    {
     "name": "stdout",
     "output_type": "stream",
     "text": [
      "Epoch no.  1 |accuracy:  0.776 % |total_loss: 275.6063697338104 |epochduration:  134.68 sec\n",
      "Epoch no.  2 |accuracy:  0.83 % |total_loss: 209.3407587558031 |epochduration:  116.04 sec\n",
      "Epoch no.  3 |accuracy:  0.848 % |total_loss: 185.9079907387495 |epochduration:  122.7 sec\n",
      "Epoch no.  4 |accuracy:  0.857 % |total_loss: 173.78929337859154 |epochduration:  131.93 sec\n",
      "Epoch no.  5 |accuracy:  0.862 % |total_loss: 168.9073941707611 |epochduration:  135.3 sec\n"
     ]
    }
   ],
   "source": [
    "cnn_model = My_Network()\n",
    "CNN_training(0.01,train_set1,train_loader)"
   ]
  },
  {
   "cell_type": "code",
   "execution_count": 65,
   "metadata": {},
   "outputs": [
    {
     "name": "stdout",
     "output_type": "stream",
     "text": [
      "The validation accuracy for this architecture is  87.5  %\n"
     ]
    }
   ],
   "source": [
    "ims,lbs = next(iter(val_loader))\n",
    "val_preds = cnn_model(ims)\n",
    "tot = total_match(val_preds,lbs)\n",
    "acc = tot/15000\n",
    "acc = round(acc,3)*100\n",
    "print(\"The validation accuracy for this architecture is \",acc,\" %\")"
   ]
  },
  {
   "cell_type": "markdown",
   "metadata": {},
   "source": [
    "### The chosen model gives a validation accuracy of 87.5%"
   ]
  },
  {
   "cell_type": "code",
   "execution_count": 66,
   "metadata": {},
   "outputs": [],
   "source": [
    "temp33 = cnn_model"
   ]
  },
  {
   "cell_type": "code",
   "execution_count": 67,
   "metadata": {},
   "outputs": [],
   "source": [
    "final_model3 = temp33"
   ]
  },
  {
   "cell_type": "code",
   "execution_count": 68,
   "metadata": {},
   "outputs": [
    {
     "name": "stdout",
     "output_type": "stream",
     "text": [
      "The test accuracy of the chosen model  59.3  %\n"
     ]
    }
   ],
   "source": [
    "ims,lbs = next(iter(test_loader))\n",
    "test_preds = final_model3(ims)\n",
    "tot = total_match(test_preds,lbs)\n",
    "acc = tot/10000\n",
    "acc = round(acc,3)*100\n",
    "print(\"The test accuracy of the chosen model \",acc,\" %\")"
   ]
  },
  {
   "cell_type": "markdown",
   "metadata": {},
   "source": [
    "### The chosen model gives a test accuracy of 59.3%"
   ]
  },
  {
   "cell_type": "code",
   "execution_count": 69,
   "metadata": {},
   "outputs": [
    {
     "name": "stdout",
     "output_type": "stream",
     "text": [
      "The train accuracy of the chosen model is  87.633 %\n"
     ]
    }
   ],
   "source": [
    "tot =0\n",
    "for data in train_loader:\n",
    "    img,lbl = data\n",
    "    train_preds = final_model3(img)\n",
    "    tot += total_match(train_preds,lbl)\n",
    "acc = round((tot/len(train_set1))*100,3)\n",
    "print(\"The train accuracy of the chosen model is \",acc,\"%\")"
   ]
  },
  {
   "cell_type": "markdown",
   "metadata": {},
   "source": [
    "### The chosen model gives a training accuracy of 87.633%"
   ]
  },
  {
   "cell_type": "markdown",
   "metadata": {},
   "source": []
  },
  {
   "cell_type": "markdown",
   "metadata": {
    "id": "fad0e5c4-7b47-41a9-88cb-c54e75f3162b",
    "tags": []
   },
   "source": [
    "### 2.3: Comparison of model performance \n",
    "\n",
    "**2.3a** In separate **plots**, I've showed the training accuracy, validation accuracy and test accuracy for each of these models.\n"
   ]
  },
  {
   "cell_type": "code",
   "execution_count": 346,
   "metadata": {
    "id": "8ead459e-81c6-4821-b93b-1e55177462ac"
   },
   "outputs": [],
   "source": [
    "training_accuracy = [87.647, 91.876, 87.633]\n",
    "test_accuracy = [68.84, 81.69, 59.3]\n",
    "validation_accuracy = [87.373, 90.32, 87.5]\n",
    "models = ['final_model1','final_model2','final_model3']"
   ]
  },
  {
   "cell_type": "code",
   "execution_count": 347,
   "metadata": {},
   "outputs": [
    {
     "data": {
      "image/png": "[encoded data removed]",
      "text/plain": [
       "<Figure size 720x576 with 1 Axes>"
      ]
     },
     "metadata": {
      "needs_background": "light"
     },
     "output_type": "display_data"
    }
   ],
   "source": [
    "X_axis = np.arange(len(models))\n",
    "plt.rcParams[\"figure.figsize\"] = [10,8]\n",
    "plt.bar(X_axis-0.1, training_accuracy, 0.3, label = 'Training accuracy')\n",
    "\n",
    "plt.bar(X_axis-0.2, validation_accuracy, 0.3, label = 'Validation accuracy')\n",
    "\n",
    "plt.bar(X_axis-0.3, test_accuracy, 0.3, label = 'Test accuracy')\n",
    "\n",
    "\n",
    "plt.xticks(X_axis,models)\n",
    "plt.xlabel(\"Three Chosen Models\",fontsize=18)\n",
    "plt.ylabel(\"Training accuracy, validation and test accuracy\",fontsize=16)\n",
    "plt.title('Plotting training, validation and test accuracy against each chosen models')\n",
    "plt.legend()\n",
    "\n",
    "\n",
    "\n",
    "plt.show()"
   ]
  },
  {
   "cell_type": "markdown",
   "metadata": {
    "id": "7619fcd3-6cb5-43a6-b8fe-b006c2cca18d"
   },
   "source": [
    "**2.3b** Interesting Observations."
   ]
  },
  {
   "cell_type": "markdown",
   "metadata": {
    "id": "6778cf47-c2b8-4a38-b964-95b5f684e131"
   },
   "source": [
    "1. The test accuracy of the model2 with 2 Convolution layers and 2 Fully connected layers is more than the other two models\n",
    "\n",
    "2. The test accuraccy of the model1 with only 2 fully connected layers is quite good.\n",
    "\n",
    "3. The model2 with 2 Convolution layers and 2 Fully connected layers is giving a better performance in terms of training, validation and test accuracy than the other two models"
   ]
  },
  {
   "cell_type": "markdown",
   "metadata": {},
   "source": [
    "## References:\n",
    "\n",
    "1. Module Lecture Notes\n",
    "2. Module Lab sheets\n",
    "3. Wood, T. (2019). Convolutional Neural Networks. [online] DeepAI. Available at: https://deepai.org/machine-learning-glossary-and-terms/convolutional-neural-network.\n",
    "\n",
    "4. www.tutorialspoint.com. (n.d.). PyTorch - Convolutional Neural Network. [online] Available at: https://www.tutorialspoint.com/pytorch/pytorch_convolutional_neural_network.htm.\n",
    "\n",
    "5. Sahoo, S. (2020). Creating an Autoencoder with PyTorch. [online] Analytics Vidhya. Available at: https://medium.com/analytics-vidhya/creating-an-autoencoder-with-pytorch-a2b7e3851c2c.\n",
    "\n"
   ]
  },
  {
   "cell_type": "code",
   "execution_count": null,
   "metadata": {},
   "outputs": [],
   "source": []
  }
 ],
 "metadata": {
  "colab": {
   "provenance": []
  },
  "kernelspec": {
   "display_name": "Python 3",
   "language": "python",
   "name": "python3"
  },
  "language_info": {
   "codemirror_mode": {
    "name": "ipython",
    "version": 3
   },
   "file_extension": ".py",
   "mimetype": "text/x-python",
   "name": "python",
   "nbconvert_exporter": "python",
   "pygments_lexer": "ipython3",
   "version": "3.7.6"
  }
 },
 "nbformat": 4,
 "nbformat_minor": 5
}
